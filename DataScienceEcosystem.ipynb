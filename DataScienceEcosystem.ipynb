{
 "cells": [
  {
   "cell_type": "markdown",
   "id": "610d8800",
   "metadata": {},
   "source": [
    "# Data Science Tools and Ecosystem"
   ]
  },
  {
   "cell_type": "markdown",
   "id": "ac04a371",
   "metadata": {},
   "source": [
    "In this notebook, Data Science Tools and Ecosystem are summarized."
   ]
  },
  {
   "cell_type": "markdown",
   "id": "12da2f22",
   "metadata": {},
   "source": [
    "**Objectives:**\n",
    "- Popular Languages\n",
    "- Popular Libraries\n",
    "- Popular Tools\n",
    "- Arthimetic Operations in Python"
   ]
  },
  {
   "cell_type": "markdown",
   "id": "ade9df55",
   "metadata": {},
   "source": [
    "Some of the popular languages that DataScientists use are:\n",
    "1. Python\n",
    "2. SQL\n",
    "3. Julia\n",
    "4. Scala"
   ]
  },
  {
   "cell_type": "markdown",
   "id": "83d6066d",
   "metadata": {},
   "source": [
    "Some of the popular libraries that Data Scientists use are:\n",
    "1. Matplotlib\n",
    "2. Pandas\n",
    "3. NumPy\n",
    "4. Seaborn"
   ]
  },
  {
   "cell_type": "markdown",
   "id": "f329732a",
   "metadata": {},
   "source": [
    "|Data Science Tools|\n",
    "|------------------|\n",
    "|RStudio|\n",
    "|Jupyter Notebook|\n",
    "|VS Code|"
   ]
  },
  {
   "cell_type": "markdown",
   "id": "b6072fad",
   "metadata": {},
   "source": [
    "### Below are a few examples of evaluating arithmetic expressions in Python"
   ]
  },
  {
   "cell_type": "code",
   "execution_count": 4,
   "id": "c351b3ef",
   "metadata": {},
   "outputs": [
    {
     "data": {
      "text/plain": [
       "17"
      ]
     },
     "execution_count": 4,
     "metadata": {},
     "output_type": "execute_result"
    }
   ],
   "source": [
    "#This a simple arithmetic expression to mutiply then add integers\n",
    "(3*4)+5"
   ]
  },
  {
   "cell_type": "code",
   "execution_count": 5,
   "id": "df41c68e",
   "metadata": {},
   "outputs": [
    {
     "data": {
      "text/plain": [
       "3.3333333333333335"
      ]
     },
     "execution_count": 5,
     "metadata": {},
     "output_type": "execute_result"
    }
   ],
   "source": [
    "#this code will convert 200 minutes into hours\n",
    "200/60"
   ]
  },
  {
   "cell_type": "markdown",
   "id": "af67c02c",
   "metadata": {},
   "source": [
    "## Author\n",
    "Jawad Akbar"
   ]
  },
  {
   "cell_type": "code",
   "execution_count": null,
   "id": "bf79ba96",
   "metadata": {},
   "outputs": [],
   "source": []
  }
 ],
 "metadata": {
  "kernelspec": {
   "display_name": "Python 3 (ipykernel)",
   "language": "python",
   "name": "python3"
  },
  "language_info": {
   "codemirror_mode": {
    "name": "ipython",
    "version": 3
   },
   "file_extension": ".py",
   "mimetype": "text/x-python",
   "name": "python",
   "nbconvert_exporter": "python",
   "pygments_lexer": "ipython3",
   "version": "3.11.5"
  }
 },
 "nbformat": 4,
 "nbformat_minor": 5
}
